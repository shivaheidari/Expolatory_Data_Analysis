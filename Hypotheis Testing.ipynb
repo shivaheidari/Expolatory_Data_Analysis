{
 "cells": [
  {
   "cell_type": "markdown",
   "metadata": {},
   "source": [
    "<H1>Hypothesis Testing</H1>"
   ]
  },
  {
   "cell_type": "markdown",
   "metadata": {},
   "source": [
    "We have a hypothesis that should be investigated whether is true or false. Accordingly, there are two mutually exclusive hypothesis H0 and H1.</br>\n",
    "Steps of hypothesis testing:</br>\n",
    "\n",
    "H0=$\\mu$, H1 $\\neq$ $\\mu$\n"
   ]
  }
 ],
 "metadata": {
  "language_info": {
   "name": "python"
  },
  "orig_nbformat": 4
 },
 "nbformat": 4,
 "nbformat_minor": 2
}
