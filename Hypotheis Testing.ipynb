{
 "cells": [
  {
   "cell_type": "markdown",
   "metadata": {},
   "source": [
    "<H1>Hypothesis Testing</H1>\n",
    "reference: practical statistics for data scienctists"
   ]
  },
  {
   "cell_type": "markdown",
   "metadata": {},
   "source": [
    "We have a hypothesis that should be investigated whether is true or false. Accordingly, there are two mutually exclusive hypothesis H0 and H1.</br>\n",
    "Steps of hypothesis testing:</br>\n",
    "1.Defining a Hypothesis</br>\n",
    "2.Assuption Check</br>\n",
    "3.Selecting the Proper Test</br>\n",
    "4.Decision and Conclusion</br>\n",
    "<h3>1.Defining a Hypothesis</h3>\n",
    "H₀: μ=x, H₁: μ!=x\n",
    "</br>\n",
    "H₀: μ≤x, H₁: μ>x\n",
    "</br>\n",
    "H₀: μ≥x, H₁: μ<x\n",
    "</br>\n",
    "<h3>Assuption Check</h3>\n",
    "we have to decide whether to use parametric or nonparametric version of a test. This downs to these requirements:</br>\n",
    "1. Observation in each sample are independent and identically distributed (IID).</br>\n",
    "2. observations in each sample are normally distributed.\n",
    "</br>\n",
    "3. observations in each sample have the same variance.\n",
    "\n",
    "### Selecting the Proper Test\n",
    "Acocording to the below table we choose the apporporaite test.</br> \n",
    "<img src=\"AB testing.png\"> \n",
    "\n",
    "### Decision and coclusion\n",
    "After performing the hypothesis testing, we obtian a related p-value that shows the significance of the test.\n",
    "if the p-value is smaller that the alpha(the significance level), in other words, there is enough evidence to prove H0 is not valid, we reject H0."
   ]
  },
  {
   "cell_type": "markdown",
   "metadata": {},
   "source": [
    "<h2> Parametric tests</h2>\n",
    "<h3>Simple t-Test for one Sample</h3>\n",
    "\n",
    "\n",
    "Goal: whether the population differs from a fixed value or are there statistically diffrences between a sample mean and the fixed value?(Sample vs Population)\n",
    "</br>\n",
    "\n",
    "One tailed or two tailed?</br>\n",
    "in one tailed: there is a difference </br>\n",
    "in two tialed: mean sample > mean population or mean sample < mean population</br>\n",
    "first of all, the t-value should be calculated according to the data set. Its formula is </br>\n",
    "t= $ \\frac {\\bar{x}-\\mu}{Standard error of mean} $\n",
    "</br>\n",
    "critical t-value accoriding to the numebr of freedom=n-1 and the level of significance, which is a fixed value, can be determined. If the critical-t value > t-value there is no statistically diffrence between the mean of sample and the population. Otherwise there is a significant diffrence between mean of sample and the mean of population.\n",
    "</br>\n",
    "<h4>Example:</h4>\n",
    "whether an online statistics tutorial at a university has an effect on the stutesnts' examination results. The reference value is 28 which is the average score of the university for years.</br>"
   ]
  },
  {
   "cell_type": "code",
   "execution_count": 2,
   "metadata": {},
   "outputs": [],
   "source": [
    "from scipy import stats"
   ]
  },
  {
   "cell_type": "code",
   "execution_count": 4,
   "metadata": {},
   "outputs": [
    {
     "name": "stdout",
     "output_type": "stream",
     "text": [
      "Ttest_1sampResult(statistic=2.746194120979329, pvalue=0.01901964255331356)\n"
     ]
    }
   ],
   "source": [
    "scores=[28,29,35,37,32,26,37,39,22,29,36,38]\n",
    "st=stats.ttest_1samp(scores,28)\n",
    "print(st)"
   ]
  },
  {
   "cell_type": "markdown",
   "metadata": {},
   "source": [
    "<h3>Paired Sample t-Test</h3>\n",
    "<h3>Unpaired Sample t-Test</h3>\n",
    "<h3>One factorial ANOVA</h3>\n",
    "<h3>Repeated MEasures ANOVA</h3>\n",
    "<h3>Pearson Correlation</h3>\n",
    "<h2>Nonparametric tests</h2>\n",
    "<h3>Wilcoxon test for one sample</h3>\n",
    "<h3>Wilcoxon-Test</h3>\n",
    "<h3>Man-Whitney U Test</h3>\n",
    "<h3>Kruskal-Wallis-Test</h3>\n",
    "<h3>Friedman-Test</h3>\n",
    "<h3>Spearman-correlation</h3>"
   ]
  },
  {
   "cell_type": "code",
   "execution_count": null,
   "metadata": {},
   "outputs": [],
   "source": []
  },
  {
   "cell_type": "code",
   "execution_count": null,
   "metadata": {},
   "outputs": [],
   "source": []
  }
 ],
 "metadata": {
  "interpreter": {
   "hash": "34d7bdf454efd992c993e549609559862d183f1b2f5fcba8f3c42c9afb401fb3"
  },
  "kernelspec": {
   "display_name": "Python 3.8.8 ('venv': venv)",
   "language": "python",
   "name": "python3"
  },
  "language_info": {
   "codemirror_mode": {
    "name": "ipython",
    "version": 3
   },
   "file_extension": ".py",
   "mimetype": "text/x-python",
   "name": "python",
   "nbconvert_exporter": "python",
   "pygments_lexer": "ipython3",
   "version": "3.8.8"
  },
  "orig_nbformat": 4
 },
 "nbformat": 4,
 "nbformat_minor": 2
}
