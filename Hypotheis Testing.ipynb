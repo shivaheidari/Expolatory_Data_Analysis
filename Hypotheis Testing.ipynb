{
 "cells": [
  {
   "cell_type": "markdown",
   "metadata": {},
   "source": [
    "<H1>Hypothesis Testing</H1>\n",
    "reference: practical statistics for data scienctists"
   ]
  },
  {
   "cell_type": "markdown",
   "metadata": {},
   "source": [
    "We have a hypothesis that should be investigated whether is true or false. Accordingly, there are two mutually exclusive hypothesis H0 and H1.</br>\n",
    "Steps of hypothesis testing:</br>\n",
    "1.Defining a Hypothesis</br>\n",
    "2.Assuption Check</br>\n",
    "3.Selecting the Proper Test</br>\n",
    "4.Decision and Conclusion</br>\n",
    "<h3>1.Defining a Hypothesis</h3>\n",
    "H₀: μ=x, H₁: μ!=x\n",
    "</br>\n",
    "H₀: μ≤x, H₁: μ>x\n",
    "</br>\n",
    "H₀: μ≥x, H₁: μ<x\n",
    "</br>\n",
    "<h3>Assuption Check</h3>\n",
    "we have to decide whether to use parametric or nonparametric version of a test. This downs to these requirements:</br>\n",
    "1. Observation in each sample are independent and identically distributed (IID).</br>\n",
    "2. observations in each sample are normally distributed.\n",
    "</br>\n",
    "3. observations in each sample have the same variance.\n",
    "\n",
    "### Selecting the Proper Test\n",
    "Acocording to the below table we choose the apporporaite test.</br> \n",
    "<img src=\"AB testing.png\"> \n",
    "\n",
    "### Decision and coclusion\n",
    "After performing the hypothesis testing, we obtian a related p-value that shows the significance of the test.\n",
    "if the p-value is smaller that the alpha(the significance level), in other words, there is enough evidence to prove H0 is not valid, we reject H0."
   ]
  },
  {
   "cell_type": "markdown",
   "metadata": {},
   "source": [
    "<h2> Parametric tests</h2>\n",
    "<h3>Simple t-Test for one Sample</h3>\n",
    "\n",
    "\n",
    "Goal: whether the population differs from a fixed value or are there statistically diffrences between a sample mean and the fixed value?(Sample vs Population)\n",
    "</br>\n",
    "\n",
    "One tailed or two tailed?</br>\n",
    "in one tailed: there is a difference </br>\n",
    "in two tialed: mean sample > mean population or mean sample < mean population</br>\n",
    "first of all, the t-value should be calculated according to the data set. Its formula is </br>\n",
    "t= $ \\frac {\\bar{x}-\\mu}{Standard error of mean} $\n",
    "</br>\n",
    "critical t-value accoriding to the numebr of freedom=n-1 and the level of significance, which is a fixed value, can be determined. If the critical-t value > t-value there is no statistically diffrence between the mean of sample and the population. Otherwise there is a significant diffrence between mean of sample and the mean of population.\n",
    "</br>\n",
    "<h4>Example:</h4>\n",
    "whether an online statistics tutorial at a university has an effect on the stutesnts' examination results. The reference value is 28 which is the average score of the university for years.</br>"
   ]
  },
  {
   "cell_type": "code",
   "execution_count": 6,
   "metadata": {},
   "outputs": [],
   "source": [
    "from scipy import stats\n",
    "import numpy as np"
   ]
  },
  {
   "cell_type": "code",
   "execution_count": 3,
   "metadata": {},
   "outputs": [
    {
     "name": "stdout",
     "output_type": "stream",
     "text": [
      "Ttest_1sampResult(statistic=2.746194120979329, pvalue=0.01901964255331356)\n"
     ]
    }
   ],
   "source": [
    "scores=[28,29,35,37,32,26,37,39,22,29,36,38]\n",
    "st=stats.ttest_1samp(scores,28)\n",
    "#returns statistics and pvalue\n",
    "print(st)"
   ]
  },
  {
   "cell_type": "markdown",
   "metadata": {},
   "source": [
    "<h3>Paired Sample t-Test</h3>\n",
    "A university professor gave online lectures instead of face-to-face classes due to Covid-19. Later, he uploaded recorded lectures to the cloud for students who followed the course asynchronously (those who did not attend the lesson but later watched the records). However, he believes that the students who attend class at the class time and participate in the process are more successful. Therefore, he recorded the average grades of the students at the end of the semester.\n",
    "</br>\n",
    "significance level=0.05</br>\n",
    "Null Hypothesis: the mean of synchronizing education is less  than  or equal the mean fo asychroning educationn</br>\n",
    "alternnative Hyepothesis: the mean of synchronizing education is greater than the mean fo asychroning educationn</br>\n",
    "\n",
    "\n",
    " "
   ]
  },
  {
   "cell_type": "code",
   "execution_count": 4,
   "metadata": {},
   "outputs": [],
   "source": [
    "syn=[94. , 84.9, 82.6, 69.5, 80.1, 79.6, 81.4, 77.8, 81.7, 78.8, 73.2, 87.9, 87.9, 93.5, 82.3, 79.3, 78.3, 71.6, 88.6, 74.6, 74.1, 80.6]\n",
    "asyn=[77.1, 71.7, 91. , 72.2, 74.8, 85.1, 67.6, 69.9, 75.3, 71.7, 65.7, 72.6, 71.5, 78.2]\n"
   ]
  },
  {
   "cell_type": "markdown",
   "metadata": {},
   "source": [
    "<h4>Assuption Check</h4>\n",
    "H0: the data is normally distributed\n",
    "H1: the data is not normally distributed\n",
    "if the p-value is >0.05, it can be said that the data is normally distirbuted.\n",
    "for checking the noramlity, Shapriro-Wilke's W test is used."
   ]
  },
  {
   "cell_type": "code",
   "execution_count": 5,
   "metadata": {},
   "outputs": [],
   "source": [
    "def check_normality(data):\n",
    "    test_stas_normality,p_value_normality=stats.shapiro(data)\n",
    "    print(\"p value:%.4f\"%p_value_normality)\n",
    "    if p_value_normality<0.05:\n",
    "        print(\"Reject null hypothesis the data is not normally distributed\")\n",
    "    else:\n",
    "        print(\"Faile to reject the null hypothesis, The data is normally distributed\")"
   ]
  },
  {
   "cell_type": "code",
   "execution_count": 9,
   "metadata": {},
   "outputs": [
    {
     "name": "stdout",
     "output_type": "stream",
     "text": [
      "p value:0.6556\n",
      "Faile to reject the null hypothesis, The data is normally distributed\n",
      "p value:0.0803\n",
      "Faile to reject the null hypothesis, The data is normally distributed\n"
     ]
    }
   ],
   "source": [
    "sync=np.array(syn)\n",
    "asy=np.array(asyn)\n",
    "check_normality(sync)\n",
    "check_normality(asy)"
   ]
  },
  {
   "cell_type": "markdown",
   "metadata": {},
   "source": [
    "H0:  the variace of the samples are the same</br>\n",
    "H1: the variance of the samples are diffrent"
   ]
  },
  {
   "cell_type": "code",
   "execution_count": 10,
   "metadata": {},
   "outputs": [],
   "source": [
    "def check_vairance(group1,group2):\n",
    " test_stat_var, p_value_var=stats.levene(group1,group2)\n",
    " print(\"p value:%.4f\"% p_value_var)\n",
    "\n",
    " if p_value_var<0.05:\n",
    "    print(\"Reject the null hypotheis the variances of the samples are diffrent\")\n",
    " else:\n",
    "    print(\"fail to reject null hypothesis the variaces of the samples are the same\")"
   ]
  },
  {
   "cell_type": "code",
   "execution_count": 11,
   "metadata": {},
   "outputs": [
    {
     "name": "stdout",
     "output_type": "stream",
     "text": [
      "p value:0.8149\n",
      "fail to reject null hypothesis the variaces of the samples are the same\n"
     ]
    }
   ],
   "source": [
    "check_vairance(sync,asy)"
   ]
  },
  {
   "cell_type": "markdown",
   "metadata": {},
   "source": [
    "Since the assuption are satisfied, we can perform the parametric version of the te test for 2 groups and uppaired data.</br>\n",
    "since the hypothesis is one sided pvalue /2 is used"
   ]
  },
  {
   "cell_type": "code",
   "execution_count": 12,
   "metadata": {},
   "outputs": [
    {
     "name": "stdout",
     "output_type": "stream",
     "text": [
      "p value: 0.007536\n",
      "Reject null hypothesis\n"
     ]
    }
   ],
   "source": [
    "ttest, p_value=stats.ttest_ind(syn,asy)\n",
    "print(\"p value:% 8f\"% p_value)\n",
    "if p_value/2 <0.05:\n",
    "    print(\"Reject null hypothesis\")\n",
    "else:\n",
    "    print(\"fail to reject the null hypothesis \")"
   ]
  },
  {
   "cell_type": "markdown",
   "metadata": {},
   "source": []
  },
  {
   "cell_type": "code",
   "execution_count": null,
   "metadata": {},
   "outputs": [],
   "source": []
  },
  {
   "cell_type": "markdown",
   "metadata": {},
   "source": [
    "\n",
    "<h3>Unpaired Sample t-Test</h3>\n",
    "<h3>One factorial ANOVA</h3>\n",
    "<h3>Repeated MEasures ANOVA</h3>\n",
    "<h3>Pearson Correlation</h3>\n",
    "<h2>Nonparametric tests</h2>\n",
    "<h3>Wilcoxon test for one sample</h3>\n",
    "<h3>Wilcoxon-Test</h3>\n",
    "<h3>Man-Whitney U Test</h3>\n",
    "<h3>Kruskal-Wallis-Test</h3>\n",
    "<h3>Friedman-Test</h3>\n",
    "<h3>Spearman-correlation</h3>"
   ]
  },
  {
   "cell_type": "code",
   "execution_count": null,
   "metadata": {},
   "outputs": [],
   "source": []
  },
  {
   "cell_type": "code",
   "execution_count": null,
   "metadata": {},
   "outputs": [],
   "source": []
  }
 ],
 "metadata": {
  "interpreter": {
   "hash": "34d7bdf454efd992c993e549609559862d183f1b2f5fcba8f3c42c9afb401fb3"
  },
  "kernelspec": {
   "display_name": "Python 3.8.8 ('venv': venv)",
   "language": "python",
   "name": "python3"
  },
  "language_info": {
   "codemirror_mode": {
    "name": "ipython",
    "version": 3
   },
   "file_extension": ".py",
   "mimetype": "text/x-python",
   "name": "python",
   "nbconvert_exporter": "python",
   "pygments_lexer": "ipython3",
   "version": "3.8.8"
  },
  "orig_nbformat": 4
 },
 "nbformat": 4,
 "nbformat_minor": 2
}
